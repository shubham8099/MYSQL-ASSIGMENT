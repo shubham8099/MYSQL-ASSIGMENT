{
 "cells": [
  {
   "cell_type": "markdown",
   "metadata": {},
   "source": [
    " JAI MAA SARASWATI"
   ]
  },
  {
   "cell_type": "markdown",
   "metadata": {},
   "source": [
    "Q :- WHAT IS A DATABASE ? DIFFERENTIATE BETWEEN SQL AND NoSQL DATABASES . "
   ]
  },
  {
   "cell_type": "markdown",
   "metadata": {},
   "source": [
    "^_^ A DATA BASE IS ORGANISED COLLECTION OF STRUCTURED INFORMATION AND DATA , TYPICALLY STORED ELECTRONICALLY IN A \n",
    "    COMPUTER SYSTEM . A DATA BASE IS USUALLY CONTROLLED BY DBMS( DATA BASE MANAGEMENT SYSTEM ) . TOGETEHER , THE DATA \n",
    "    AND DBMS , ALONG WITH THE APPLICATION THAT ARE ASSOCIATED WITH THEM , AND THEIR DATA ARE TRANSFER OR REFFFERD TO\n",
    "    DATA BASE TO STORE THEIR IMPORTANT DATA AND SEACURE THEIR DATA .\n",
    "    \n",
    "+_+  DATA WITHIN THE MOST COMMON TYPES OF DATABASES IN OPERATION TODAY IS TYPICALLY MODELED IN ROWS & COULMNS IN SERIES\n",
    "    OF TABLES TO MAKE PROCESSING AND DATA QUERING EFFICIENT . THE DATA CAN EASYILY CAN BE ACCESSED , MANAGED , MODIFIED\n",
    "    UPDATED , CONTROLLED AND ORGANIZED  . MOST DATABASED USE STRUCTURED QUERY LANGUAGE(SQL) FOR WRITING AND QUERYING .\n",
    "    \n",
    "    \n",
    "*_* THE DIFFERNCE BETWEEN SQL AND NO SQL ARE :-\n",
    "\n",
    "(i) THE SQL DATA BASE ARE RELATIONAL WHILE NO SQL DATA ARE NON-RELATIONAL  \n",
    "(ii) THE SQL DATA BASE USE STRUCTURED QUERY LANGUAGE(SQL) AND HAVE A PREDEFINED SCHEMA . NO SQL DATA HAVE A \n",
    "     DYNAMIC SCHEMA FOR UNSTRUCTURED DATA .\n",
    "(iii) SQL DATA BASE ARE VERTICALLY SCALABLE WHILE NO SQL DATA BASE HORIZONTALLY SCALABLE.\n",
    "(iv) SQL DATA BASE ARE TABLE-BASED, WHILE NO SQL DATA BASE ARE DOCUMENT, KEY-VALUE, GRAPH , OR WIDE COLUMN-STORES.\n",
    "(v) SQL DATA BASE ARE BETTER FOR MULTI-ROW TRANSACTIONS , WHILE NoSQL DATA ARE BETTER FOR UNSTRUCTURED DATA LIKE\n",
    "    DOCUMENT AND JSON "
   ]
  },
  {
   "cell_type": "markdown",
   "metadata": {},
   "source": [
    " Q => WHAT IS DDL ? EXPLAIN WHY CREATE , DROP , ALTER , AND TRUNCATE ARE USED WITH AN EXAMPLE . "
   ]
  },
  {
   "cell_type": "markdown",
   "metadata": {},
   "source": [
    "^_^ DDL STAND FOR DATA DEFINITION LANGUAGE . IT IS A SUBSET OF STRUCTURED QUERY LANGUAGE(SQL) USED \n",
    "    FOR DEFINING AND MANAGING THE STRUCTURE OF RELATIONAL DATABASE . DDL STATEMENT ARE RESPONSIBLE \n",
    "    FOR DEFING THE DATABASE SCHEMA, INCLUDING CREATING , ALTERING & DELETING TABLES AND OTHER DATABSE\n",
    "    OBJECT . DDL STATEMENTS ARE ESSENTIAL FOR DATABASE ADMINISTRATORS AND DEVELOPER WHEN DESIGNING \n",
    "    AND MAINTAING THE DATABASE . THEY DEFINES THE RULES AND RELATIONSHIP THAT GOVERN THE DATA \n",
    "    STORED IN THE DATABSE .\n",
    "    \n",
    "*_* COMMON DDL STATEMENT INCLUDE :-   \n",
    "    * CREATE => CREATE ARE USED TO CREATE A DABATBASE OBJECT LIKE TABLES , INDEX OR VIEWS.\n",
    "    * ALTER => ALTER ARE USED TO MODIFY EXISTING DATABASE OBJECT SUCH AS ADDING AND DROPING THE COLUMNS TABLE .  \n",
    "    * DROP => DROP ARE USED TO DELETE A DATABASE OBJECT , SUCH AS TABLE OR INDEX .\n",
    "    * TRUNCATE => TRUNCATE ARE USE FOR REMOVES ALL THE RECORDS FROM THE TABLE , BUT REATINS THE STRUCTURE \n",
    "                  FOR FUTURE USE.\n",
    "    \n",
    "    \n",
    "let us taking of these statement :- "
   ]
  },
  {
   "cell_type": "code",
   "execution_count": 6,
   "metadata": {},
   "outputs": [],
   "source": [
    "import mysql.connector\n",
    "mydb = mysql.connector.connect(\n",
    "    host=\"localhost\",\n",
    "    user=\"root\",\n",
    "    password=\"sitashubham75\"\n",
    ")\n",
    "mycursor = mydb.cursor()\n",
    "mycursor.execute(\"CREATE TABLE if not exists ss.create_table(c1 INT , c2 VARCHAR(50) , c3 FLOAT , c4 INT , c5 VARCHAR(30))\")\n",
    "mydb.close()\n",
    "# FROM THE ABOVE EXAMPLE SHOWS THAT HOW WE CAN CREATE TABLE WITH THE HELP OF \"CREATE\""
   ]
  },
  {
   "cell_type": "code",
   "execution_count": 7,
   "metadata": {},
   "outputs": [],
   "source": [
    "import mysql.connector\n",
    "mydb = mysql.connector.connect(\n",
    "    host=\"localhost\",\n",
    "    user=\"root\",\n",
    "    password=\"sitashubham75\"\n",
    ")\n",
    "mycursor = mydb.cursor()\n",
    "mycursor.execute(\"insert into ss.create_table values(123 , 'sitashubham' , 5656.565 , 454,'sshubham')\")\n",
    "mydb.commit()\n",
    "mydb.close()"
   ]
  },
  {
   "cell_type": "code",
   "execution_count": 9,
   "metadata": {},
   "outputs": [
    {
     "name": "stdout",
     "output_type": "stream",
     "text": [
      "(123, 'sitashubham', 5656.56, 454, 'sshubham')\n"
     ]
    }
   ],
   "source": [
    "import mysql.connector\n",
    "mydb = mysql.connector.connect(\n",
    "    host=\"localhost\",\n",
    "    user=\"root\",\n",
    "    password=\"sitashubham75\"\n",
    ")\n",
    "mycursor = mydb.cursor()\n",
    "mycursor.execute(\"select * from ss.create_table\")\n",
    "for i in mycursor.fetchall():\n",
    "    print(i)\n",
    "mydb.close()"
   ]
  },
  {
   "cell_type": "code",
   "execution_count": 14,
   "metadata": {},
   "outputs": [
    {
     "data": {
      "text/plain": [
       "True"
      ]
     },
     "execution_count": 14,
     "metadata": {},
     "output_type": "execute_result"
    }
   ],
   "source": [
    "import mysql.connector\n",
    "mydb = mysql.connector.connect(\n",
    "    host=\"localhost\",\n",
    "    user=\"root\",\n",
    "    password=\"sitashubham75\"\n",
    ")\n",
    "mycursor = mydb.cursor()\n",
    "mycursor.execute(\"ALTER TABLE ss.create_table ADD COLUMN salary DECIMAL(10,2)\")\n",
    "mycursor.close()\n"
   ]
  },
  {
   "cell_type": "code",
   "execution_count": 16,
   "metadata": {},
   "outputs": [],
   "source": [
    "import mysql.connector\n",
    "mydb = mysql.connector.connect(\n",
    "    host=\"localhost\",\n",
    "    user=\"root\",\n",
    "    password=\"sitashubham75\"\n",
    ")\n",
    "mycursor = mydb.cursor()\n",
    "mycursor.execute(\"insert into ss.create_table values(123 , 'sitashubham' , 5656.565 , 454,'sshubham' , 526.5)\")\n",
    "mydb.commit()\n",
    "mydb.close()"
   ]
  },
  {
   "cell_type": "code",
   "execution_count": 17,
   "metadata": {},
   "outputs": [
    {
     "name": "stdout",
     "output_type": "stream",
     "text": [
      "(123, 'sitashubham', 5656.56, 454, 'sshubham', None)\n",
      "(123, 'sitashubham', 5656.56, 454, 'sshubham', Decimal('526.50'))\n"
     ]
    }
   ],
   "source": [
    "import mysql.connector\n",
    "mydb = mysql.connector.connect(\n",
    "    host=\"localhost\",\n",
    "    user=\"root\",\n",
    "    password=\"sitashubham75\"\n",
    ")\n",
    "mycursor = mydb.cursor()\n",
    "mycursor.execute(\"select * from ss.create_table\")\n",
    "for i in mycursor.fetchall():\n",
    "    print(i)\n",
    "mydb.close()\n",
    "# FROM THE ABOVE EXAMPE SHOWS THAT HOW WE CAN MODIFY OUR TABLE WITH THE HELP OF \"ALTER\""
   ]
  },
  {
   "cell_type": "code",
   "execution_count": 18,
   "metadata": {},
   "outputs": [
    {
     "data": {
      "text/plain": [
       "True"
      ]
     },
     "execution_count": 18,
     "metadata": {},
     "output_type": "execute_result"
    }
   ],
   "source": [
    "import mysql.connector\n",
    "mydb = mysql.connector.connect(\n",
    "    host=\"localhost\",\n",
    "    user=\"root\",\n",
    "    password=\"sitashubham75\"\n",
    ")\n",
    "mycursor = mydb.cursor()\n",
    "mycursor.execute(\"TRUNCATE TABLE ss.create_table \")\n",
    "mycursor.close()\n",
    "# FROM THE ABOVE THE EXAMPLE SHOWS THAT HOW WE CAN REMOVE THE ALL DATA FROM THE TABLE BUT REMAIN THE STRUCTURE OF THE TABLE FOR THE FUTURE USE ."
   ]
  },
  {
   "cell_type": "code",
   "execution_count": 20,
   "metadata": {},
   "outputs": [
    {
     "data": {
      "text/plain": [
       "<bound method CMySQLCursor.close of <mysql.connector.cursor_cext.CMySQLCursor object at 0x00000229252B2330>>"
      ]
     },
     "execution_count": 20,
     "metadata": {},
     "output_type": "execute_result"
    }
   ],
   "source": [
    "import mysql.connector\n",
    "mydb = mysql.connector.connect(\n",
    "    host=\"localhost\",\n",
    "    user=\"root\",\n",
    "    password=\"sitashubham75\"\n",
    ")\n",
    "mycursor = mydb.cursor()\n",
    "mycursor.execute(\"DROP TABLE ss.create_table\")\n",
    "mycursor.close\n",
    "# WITH THE HELP OF DROP TABLE WE CAN DELETE THE TABLE PARMANENTLY IT CLEAR THE TABLE FROM THE DATABASE ."
   ]
  },
  {
   "cell_type": "markdown",
   "metadata": {},
   "source": [
    "FROM THE ALL ABOVE THE EXAMPLE SHOWS THAT HOW WE CAN CREATE THE TABLE AND MODIFY THE TABLE AND DO SOME OTHER PROCESS ."
   ]
  },
  {
   "cell_type": "markdown",
   "metadata": {},
   "source": [
    "Q => WHAT IS DML ? EXPLAIN INSERT , UPDATE , DELETE WITH AN EXAMPLE ."
   ]
  },
  {
   "cell_type": "markdown",
   "metadata": {},
   "source": [
    "^_^ DML STAND FOR DATA MANIPULATING LANGUAGE(DML) . IT IS A SUBSET OF SQL(STRUCTURED QUERY LANGUAGE ) USED \n",
    "FOR MANAGING AND STORE THE DATA IN THE RELATIONAL DATABASE . \n",
    "\n",
    "DML CONSISTS OF THESE BASIC COMMANDS :-\n",
    "\n",
    "+_+ SELECT : IT IS USED FOR RETRIEVE DATA FROM ONE OR MORE TABLES . IT IS PRIMARILY USED FOR QUERYING AND \n",
    "             FETCHING TH DATA .\n",
    "+_+ INSERT : INSERT IS USED ADDING NEW RECORDS(ROW) TO THE TABLE .\n",
    "+_+ UPDATE : UPDATE IS BASICALLY USED FOR TO MODIFY THE RECORD OF THE EXISTING TABLE .\n",
    "+_+ DELETE : DELETE IS USED FOR DELETE THE RECORD FROM THE TABLE BASED ON THE SPECIFIC CONDITION .\n",
    "\n",
    "\n",
    "LET US TAKEING THE EXAMPLE OF THESE COMMANDS ."
   ]
  },
  {
   "cell_type": "code",
   "execution_count": 23,
   "metadata": {},
   "outputs": [
    {
     "data": {
      "text/plain": [
       "True"
      ]
     },
     "execution_count": 23,
     "metadata": {},
     "output_type": "execute_result"
    }
   ],
   "source": [
    "# Firstly we create an table an perform these basics \n",
    "import mysql.connector\n",
    "db = mysql.connector.connect(\n",
    "    host=\"localhost\",\n",
    "    user=\"root\",\n",
    "    password=\"sitashubham75\"\n",
    ")\n",
    "mycursor = db.cursor()\n",
    "mycursor.execute(\"CREATE DATABASE panda\")\n",
    "mycursor.close()"
   ]
  },
  {
   "cell_type": "code",
   "execution_count": 27,
   "metadata": {},
   "outputs": [
    {
     "name": "stdout",
     "output_type": "stream",
     "text": [
      "('information_schema',)\n",
      "('mysql',)\n",
      "('newdb',)\n",
      "('panda',)\n",
      "('performance_schema',)\n",
      "('ss',)\n",
      "('sys',)\n",
      "('test2',)\n",
      "('tutorial',)\n"
     ]
    }
   ],
   "source": [
    "import mysql.connector\n",
    "db = mysql.connector.connect(\n",
    "    host=\"localhost\",\n",
    "    user=\"root\",\n",
    "    password=\"sitashubham75\"\n",
    ")\n",
    "mycursor = db.cursor()\n",
    "mycursor.execute(\"SHOW DATABASEs\")\n",
    "for x in mycursor:\n",
    "    print(x)"
   ]
  },
  {
   "cell_type": "code",
   "execution_count": 31,
   "metadata": {},
   "outputs": [],
   "source": [
    "import mysql.connector\n",
    "db = mysql.connector.connect(\n",
    "    host=\"localhost\",\n",
    "    user=\"root\",\n",
    "    password=\"sitashubham75\"\n",
    ")\n",
    "mycursor = db.cursor()\n",
    "mycursor.execute(\"CREATE TABLE if not exists panda.file(c1 INT , c2 VARCHAR(40) , c3 FLOAT , c4 VARCHAR(50))\")\n",
    "db.close()"
   ]
  },
  {
   "cell_type": "code",
   "execution_count": 32,
   "metadata": {},
   "outputs": [],
   "source": [
    "import mysql.connector\n",
    "db = mysql.connector.connect(\n",
    "    host=\"localhost\",\n",
    "    user = \"root\",\n",
    "    password = \"sitashubham75\"\n",
    ")\n",
    "mycursor = db.cursor()\n",
    "mycursor.execute(\"insert into panda.file values(5645 , 'sshubham_shah' , 865.565 , 'shubham_shah')\")\n",
    "db.commit()\n",
    "db.close()\n",
    "# FROM THE ABOVE THE EXAMPLE SHOWS THAT HOW WE CAN INSERT THE DATA INTO DATABASE panda  "
   ]
  },
  {
   "cell_type": "code",
   "execution_count": 34,
   "metadata": {},
   "outputs": [
    {
     "name": "stdout",
     "output_type": "stream",
     "text": [
      "data updated\n"
     ]
    }
   ],
   "source": [
    "import mysql.connector\n",
    "db = mysql.connector.connect(\n",
    "    host=\"localhost\",\n",
    "    user=\"root\",\n",
    "    password=\"sitashubham75\",\n",
    "    database=\"panda\"\n",
    ")\n",
    "mycursor = db.cursor()\n",
    "query = \"update file set c1=8758\"\n",
    "mycursor.execute(query)\n",
    "db.commit()\n",
    "print(\"data updated\")\n",
    "\n",
    "# from this example shows that how we can update our data with the help of UPDATE"
   ]
  },
  {
   "cell_type": "code",
   "execution_count": 28,
   "metadata": {},
   "outputs": [
    {
     "name": "stdout",
     "output_type": "stream",
     "text": [
      "updation sucessfull\n"
     ]
    }
   ],
   "source": [
    "import mysql.connector\n",
    "db = mysql.connector.connect(\n",
    "    host=\"localhost\",\n",
    "    user=\"root\",\n",
    "    password=\"sitashubham75\",\n",
    "    database=\"panda\"\n",
    ")\n",
    "mycursor = db.cursor()\n",
    "query = \"delete from file where c1=5645\"\n",
    "mycursor.execute(query)\n",
    "db.commit()\n",
    "print(\"updation sucessfull\")\n",
    "# THIS EXAMPLE SHOWS THAT HOW WE CAN DELETE DATA FROM THE TABLE "
   ]
  },
  {
   "cell_type": "code",
   "execution_count": 35,
   "metadata": {},
   "outputs": [
    {
     "name": "stdout",
     "output_type": "stream",
     "text": [
      "(8758, 'sshubham_shah', 865.565, 'shubham_shah')\n"
     ]
    }
   ],
   "source": [
    "import mysql.connector\n",
    "db = mysql.connector.connect(\n",
    "    host=\"localhost\",\n",
    "    user=\"root\",\n",
    "    password=\"sitashubham75\"\n",
    ")\n",
    "mycursor = db.cursor()\n",
    "mycursor.execute(\"SELECT * from panda.file\")\n",
    "for i in mycursor.fetchall():\n",
    "    print(i)"
   ]
  },
  {
   "cell_type": "markdown",
   "metadata": {},
   "source": [
    "Q => WHAT IS DQL ? EXPLAIN SELECT WITH AN EXAMPLE ."
   ]
  },
  {
   "cell_type": "markdown",
   "metadata": {},
   "source": [
    "^_^ DQL IS STAND FOR DATA QUERY LANGUAGE(DQL).IT IS A SUBSET OF STRUCTURED QUERY LANGUAGE(SQL) SPEICIFICALY \n",
    "    DESIGNED FOR QUERYING DATA WITHIN THE DATABASE . DQL IS PRIMARILY CONCERNED WITH RETRIEVING INFORMATION\n",
    "    FROM THE DATABASES AND ITS MAIN COMMAND IS 'SELECT' STATEMENT .\n",
    "\n",
    "*_* THE PRIMARY DQL COMMAND IS 'SELECT' WHICH IS USED TO RETRIEVE DATA FROM ONE OR MORE TABLE IN A DATABASE\n",
    "    BASED ON THE SPECIFIED CRITERIA .   \n",
    "\n",
    "\n",
    "LET US TAKEING THE EXAMPLE OF 'SELECT' ^_^    "
   ]
  },
  {
   "cell_type": "code",
   "execution_count": 37,
   "metadata": {},
   "outputs": [
    {
     "name": "stdout",
     "output_type": "stream",
     "text": [
      "(8758, 'sshubham_shah', 865.565, 'shubham_shah')\n"
     ]
    }
   ],
   "source": [
    "import mysql.connector\n",
    "db = mysql.connector.connect(\n",
    "    host=\"localhost\",\n",
    "    user=\"root\",\n",
    "    password=\"sitashubham75\",\n",
    "    database=\"panda\"\n",
    ")\n",
    "mycursor = db.cursor()\n",
    "mycursor.execute(\"SELECT * from file\")\n",
    "for i in mycursor.fetchall():\n",
    "    print(i)\n",
    "db.close()  \n",
    "# From the above the example shows that how we can fetch the all or specified data from the databases .  "
   ]
  },
  {
   "cell_type": "markdown",
   "metadata": {},
   "source": [
    "Q => EXPLAIN THE PRIMARY KEY AND FOREIGN KEY ."
   ]
  },
  {
   "cell_type": "markdown",
   "metadata": {},
   "source": [
    "+_+ PRIMARY KEY => PRIMARY KEY CONSTRAINT STATES THAT A FIELD/ATTRIBUTES/COLUMN CAN'T BE CONTAIN DUPLICATE\n",
    "                   VALUE AND IT CAN'T BE LEFT BLANK .\n",
    "\n",
    "+_+ FOREIGN KEY => WHEN A KEY / FIELD IN ONE TABLE IS PLAYING THE ROLE OF PRIMARY KEY AND IN THE ANOTHER\n",
    "                   TABLE IT IS A NON-PRIMARY KEY THEN THE NON-PRIMARY KEY WILL BE REFFERD AS FOREIGN KEY .\n",
    "\n",
    "THE KEY WHICH IS USED TO MAKE FOREIGN KEY IS KNOW AS 'REFERENCES'               \n"
   ]
  },
  {
   "cell_type": "markdown",
   "metadata": {},
   "source": [
    "Q6 => WRITE A PYTHON CODE TO CONNECT MYSQL TO PYTHON. EXPLAIN THE CURSOR() AND EXECUTE() METHOD ."
   ]
  },
  {
   "cell_type": "code",
   "execution_count": null,
   "metadata": {},
   "outputs": [],
   "source": [
    "import mysql.connector\n",
    "db = mysql.connector.connect(\n",
    "    host=\"localhost\",\n",
    "    user=\"root\",\n",
    "    password=\"password\",\n",
    "    database=\"panda\"\n",
    ")\n",
    "mycursor = db.cursor()\n",
    "mycursor.execute(\"show database\")\n",
    "db.close()\n",
    "\n",
    "# This is the Code to connect the MYSQL to the python"
   ]
  },
  {
   "cell_type": "markdown",
   "metadata": {},
   "source": [
    "^_^ CURSOR => A CURSOR IS A DATABASE OBJECT THAT ALLOW US TO RETRIEVE AND MANIPULATE DATA ONE ROW AT A TIME .\n",
    "              CURSOR ARE TYPICALLY USED WHEN PERFORMING OPERATONS ON EACH RESULT SET ROW , SUCH AS UPDATING\n",
    "              OR DELETING . A CURSOR IS A TEMPORARY MEMORY THAT IS ALLOCATED BY THE DATABASE SERVER AT THE \n",
    "              TIME OF PERFORMING THE DATA MANIPULATION LANGUAGE OPERATIONS ONA TABLE SUCH AS INSERT , UPDATE\n",
    "              AND DELETE .\n",
    "\n",
    "^_^ EXECUTE => IN MYSQL THE EXECUTE STATEMENT EXECUTES A PREPARED STATEMENT . EXECUTE A QUERY ACTION A TOOL\n",
    "               FOR BUILDING THE PROCESSES, LOGIC , AND DIRECTION WITHIN WORKFLOWS.               "
   ]
  },
  {
   "cell_type": "markdown",
   "metadata": {},
   "source": [
    "Q7 - GIVE THE ORDER OF EXECUTION OF SQL CLAUSES IN AN SQL QUERY ."
   ]
  },
  {
   "cell_type": "markdown",
   "metadata": {},
   "source": [
    "^_^ THE ORDER OF EXECUTION OF SQL CLAUSES IN A QUERY IS DEFINED BY THE LOGICAL QUERY PROCESSING PHASE . \n",
    "    THE SQL QUERY IS LOGICALLY PROCESSED IN THE FOLLOWING ORDER :-\n",
    "\n",
    "* FROM :- THE FROM CLAUSE SPECIFIES THE TABLE FROM WHICH TO RETRIEVE DATA .\n",
    "\n",
    "* JOIN :- IF THERE ARE ANY JOINS IN THE QUERY , THEY ARE PROCESSED AFTER THE FORM CLAUSE . JOINS COMBINE \n",
    "          THE ROWS FROM ONE OR TWO MORE TABLES BASED ON A RELATED COULMN BETWEEN THEM .\n",
    "\n",
    "* WHERE :- THE WHERE CLAUSE FILTERS THE ROWS BASED ON SPECIFIED CONDTIONS . ROWS THATS DO NOT SATISFY THE\n",
    "           CONDITION ARE EXCLUDED .\n",
    "\n",
    "* GROUP BY :- IF THERE IS GROUP BY CLAUSE , THE RESULT SET IS THEN GROUPED INTO SUMMARY ROWS BASED ON\n",
    "              THE SPECIFIED COLUMNS . THIS IS OFTEN USED WITH AGGREGATE FUNCTIONS .\n",
    "\n",
    "* HAVING :- THE HAVING CLAUSE FILTERS THE GROUPS ROWS BASED ON A CONDITION . IT IS\n",
    "            SIMILAR TO THE WHERE CLAUSE BUT OPERATES ON GROUPED ROWS .\n",
    "\n",
    "* SELECT :- THE SELECT CLAUSE IS THEN APPLIED TO DETERMINE WHICH COLUMNS \n",
    "            TO INCLUDE IN THE RESULT SET .\n",
    "\n",
    "* DISTINCT :- IF THE DISTINCT KEYWORD IS USED , DUPLICATES \n",
    "              ROWS ARE ELIMINATED FROM THE RESULT SET .\n",
    "\n",
    "* ORDER BY :- THE ORDER BY CLAUSE SORTS THE \n",
    "              RESULTS SET BASED ON THE SPECIFIC COLUMANS AND THEIR SORT ORDER.\n",
    "\n",
    "* LIMIT/OFFSET(IF APPLICABLE) :- IF THERE IS A LIMIT CLAUSE , IT LIMIT THE NUMBER OF ROWS RETURNED . OFFSET IS USED TO SKIP THE SPEICIFIC THE NO OF ROWS                                                                                       \n"
   ]
  },
  {
   "cell_type": "code",
   "execution_count": null,
   "metadata": {},
   "outputs": [],
   "source": []
  }
 ],
 "metadata": {
  "kernelspec": {
   "display_name": "Python 3",
   "language": "python",
   "name": "python3"
  },
  "language_info": {
   "codemirror_mode": {
    "name": "ipython",
    "version": 3
   },
   "file_extension": ".py",
   "mimetype": "text/x-python",
   "name": "python",
   "nbconvert_exporter": "python",
   "pygments_lexer": "ipython3",
   "version": "3.12.0"
  }
 },
 "nbformat": 4,
 "nbformat_minor": 2
}
